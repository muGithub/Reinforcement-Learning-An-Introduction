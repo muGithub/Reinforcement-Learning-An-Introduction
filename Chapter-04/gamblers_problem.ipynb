{
  "nbformat": 4,
  "nbformat_minor": 0,
  "metadata": {
    "colab": {
      "name": "gamblers_problem.ipynb",
      "version": "0.3.2",
      "provenance": [],
      "include_colab_link": true
    },
    "kernelspec": {
      "name": "python3",
      "display_name": "Python 3"
    }
  },
  "cells": [
    {
      "cell_type": "markdown",
      "metadata": {
        "id": "view-in-github",
        "colab_type": "text"
      },
      "source": [
        "<a href=\"https://colab.research.google.com/github/muGithub/Reinforcement-Learning-An-Introduction/blob/master/Chapter-04/gamblers_problem.ipynb\" target=\"_parent\"><img src=\"https://colab.research.google.com/assets/colab-badge.svg\" alt=\"Open In Colab\"/></a>"
      ]
    },
    {
      "metadata": {
        "id": "RvVM2efxavt4",
        "colab_type": "code",
        "colab": {}
      },
      "cell_type": "code",
      "source": [
        "#######################################################################\n",
        "# Copyright (C)                                                       #\n",
        "# 2016-2018 Shangtong Zhang(zhangshangtong.cpp@gmail.com)             #\n",
        "# 2016 Kenta Shimada(hyperkentakun@gmail.com)                         #\n",
        "# Permission given to modify the code as long as you keep this        #\n",
        "# declaration at the top                                              #\n",
        "#######################################################################\n",
        "\n",
        "import numpy as np\n",
        "import matplotlib\n",
        "matplotlib.use('Agg')\n",
        "import matplotlib.pyplot as plt\n",
        "\n",
        "# goal\n",
        "GOAL = 100\n",
        "\n",
        "# all states, including state 0 and state 100\n",
        "STATES = np.arange(GOAL + 1)\n",
        "\n",
        "# probability of head\n",
        "HEAD_PROB = 0.4\n",
        "\n",
        "def figure_4_3():\n",
        "    # state value\n",
        "    state_value = np.zeros(GOAL + 1)\n",
        "    state_value[GOAL] = 1.0\n",
        "\n",
        "    # value iteration\n",
        "    while True:\n",
        "        delta = 0.0\n",
        "        for state in STATES[1:GOAL]:\n",
        "            # get possilbe actions for current state\n",
        "            actions = np.arange(min(state, GOAL - state) + 1)\n",
        "            action_returns = []\n",
        "            for action in actions:\n",
        "                action_returns.append(\n",
        "                    HEAD_PROB * state_value[state + action] + (1 - HEAD_PROB) * state_value[state - action])\n",
        "            new_value = np.max(action_returns)\n",
        "            delta += np.abs(state_value[state] - new_value)\n",
        "            # update state value\n",
        "            state_value[state] = new_value\n",
        "        if delta < 1e-9:\n",
        "            break\n",
        "\n",
        "    # compute the optimal policy\n",
        "    policy = np.zeros(GOAL + 1)\n",
        "    for state in STATES[1:GOAL]:\n",
        "        actions = np.arange(min(state, GOAL - state) + 1)\n",
        "        action_returns = []\n",
        "        for action in actions:\n",
        "            action_returns.append(\n",
        "                HEAD_PROB * state_value[state + action] + (1 - HEAD_PROB) * state_value[state - action])\n",
        "\n",
        "        # round to resemble the figure in the book, see\n",
        "        # https://github.com/ShangtongZhang/reinforcement-learning-an-introduction/issues/83\n",
        "        policy[state] = actions[np.argmax(np.round(action_returns[1:], 5)) + 1]\n",
        "\n",
        "    plt.figure(figsize=(10, 20))\n",
        "\n",
        "    plt.subplot(2, 1, 1)\n",
        "    plt.plot(state_value)\n",
        "    plt.xlabel('Capital')\n",
        "    plt.ylabel('Value estimates')\n",
        "\n",
        "    plt.subplot(2, 1, 2)\n",
        "    plt.scatter(STATES, policy)\n",
        "    plt.xlabel('Capital')\n",
        "    plt.ylabel('Final policy (stake)')\n",
        "\n",
        "    plt.savefig('/content/figure_4_3.png')\n",
        "    plt.close()\n",
        "\n"
      ],
      "execution_count": 0,
      "outputs": []
    },
    {
      "metadata": {
        "id": "Ut_sg2v8bPFx",
        "colab_type": "code",
        "colab": {}
      },
      "cell_type": "code",
      "source": [
        "figure_4_3()"
      ],
      "execution_count": 0,
      "outputs": []
    }
  ]
}