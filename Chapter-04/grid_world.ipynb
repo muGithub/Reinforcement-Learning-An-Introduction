{
  "nbformat": 4,
  "nbformat_minor": 0,
  "metadata": {
    "colab": {
      "name": "grid_world.ipynb",
      "version": "0.3.2",
      "provenance": [],
      "include_colab_link": true
    },
    "kernelspec": {
      "name": "python3",
      "display_name": "Python 3"
    }
  },
  "cells": [
    {
      "cell_type": "markdown",
      "metadata": {
        "id": "view-in-github",
        "colab_type": "text"
      },
      "source": [
        "<a href=\"https://colab.research.google.com/github/muGithub/Reinforcement-Learning-An-Introduction/blob/master/Chapter-04/grid_world.ipynb\" target=\"_parent\"><img src=\"https://colab.research.google.com/assets/colab-badge.svg\" alt=\"Open In Colab\"/></a>"
      ]
    },
    {
      "metadata": {
        "id": "Ej8xSZ6w3qsb",
        "colab_type": "code",
        "colab": {}
      },
      "cell_type": "code",
      "source": [
        "#######################################################################\n",
        "# Copyright (C)                                                       #\n",
        "# 2016-2018 Shangtong Zhang(zhangshangtong.cpp@gmail.com)             #\n",
        "# 2016 Kenta Shimada(hyperkentakun@gmail.com)                         #\n",
        "# Permission given to modify the code as long as you keep this        #\n",
        "# declaration at the top                                              #\n",
        "#######################################################################\n",
        "\n",
        "import numpy as np\n",
        "import matplotlib\n",
        "matplotlib.use('Agg')\n",
        "import matplotlib.pyplot as plt\n",
        "from matplotlib.table import Table\n",
        "\n",
        "WORLD_SIZE = 4\n",
        "# left, up, right, down\n",
        "ACTIONS = [np.array([0, -1]),\n",
        "           np.array([-1, 0]),\n",
        "           np.array([0, 1]),\n",
        "           np.array([1, 0])]\n",
        "ACTION_PROB = 0.25\n",
        "\n",
        "def is_terminal(state):\n",
        "    x, y = state\n",
        "    return (x == 0 and y == 0) or (x == WORLD_SIZE - 1 and y == WORLD_SIZE - 1)\n",
        "\n",
        "def step(state, action):\n",
        "    state = np.array(state)\n",
        "    next_state = (state + action).tolist()\n",
        "    x, y = next_state\n",
        "\n",
        "    if x < 0 or x >= WORLD_SIZE or y < 0 or y >= WORLD_SIZE:\n",
        "        next_state = state.tolist()\n",
        "\n",
        "    reward = -1\n",
        "    return next_state, reward\n",
        "\n",
        "def draw_image(image):\n",
        "    fig, ax = plt.subplots()\n",
        "    ax.set_axis_off()\n",
        "    tb = Table(ax, bbox=[0, 0, 1, 1])\n",
        "\n",
        "    nrows, ncols = image.shape\n",
        "    width, height = 1.0 / ncols, 1.0 / nrows\n",
        "\n",
        "    # Add cells\n",
        "    for (i,j), val in np.ndenumerate(image):\n",
        "        # Index either the first or second item of bkg_colors based on\n",
        "        # a checker board pattern\n",
        "        idx = [j % 2, (j + 1) % 2][i % 2]\n",
        "        color = 'white'\n",
        "\n",
        "        tb.add_cell(i, j, width, height, text=val,\n",
        "                    loc='center', facecolor=color)\n",
        "\n",
        "    # Row Labels...\n",
        "    for i, label in enumerate(range(len(image))):\n",
        "        tb.add_cell(i, -1, width, height, text=label+1, loc='right',\n",
        "                    edgecolor='none', facecolor='none')\n",
        "    # Column Labels...\n",
        "    for j, label in enumerate(range(len(image))):\n",
        "        tb.add_cell(-1, j, width, height/2, text=label+1, loc='center',\n",
        "                           edgecolor='none', facecolor='none')\n",
        "    ax.add_table(tb)\n",
        "\n",
        "def compute_state_value(in_place=False):\n",
        "    new_state_values = np.zeros((WORLD_SIZE, WORLD_SIZE))\n",
        "    state_values = new_state_values.copy()\n",
        "    iteration = 1\n",
        "    while True:\n",
        "        src = new_state_values if in_place else state_values\n",
        "        for i in range(WORLD_SIZE):\n",
        "            for j in range(WORLD_SIZE):\n",
        "                if is_terminal([i, j]):\n",
        "                    continue\n",
        "                value = 0\n",
        "                for action in ACTIONS:\n",
        "                    (next_i, next_j), reward = step([i, j], action)\n",
        "                    value += ACTION_PROB * (reward + src[next_i, next_j])\n",
        "                new_state_values[i, j] = value\n",
        "        \n",
        "        \n",
        "        if np.sum(np.abs(new_state_values - state_values)) < 1e-4:\n",
        "            state_values = new_state_values.copy()\n",
        "            break\n",
        "\n",
        "        state_values = new_state_values.copy()\n",
        "        iteration += 1\n",
        "\n",
        "    return state_values, iteration\n",
        "\n",
        "def figure_4_1():\n",
        "    values, sync_iteration = compute_state_value(in_place=False)\n",
        "    _, asycn_iteration = compute_state_value(in_place=True)\n",
        "    draw_image(np.round(values, decimals=5))\n",
        "    print('In-place: %d iterations' % (asycn_iteration))\n",
        "    print('Synchronous: %d iterations' % (sync_iteration))\n",
        "\n",
        "    plt.savefig('/content/figure_4_1.png')\n",
        "    plt.close()\n"
      ],
      "execution_count": 0,
      "outputs": []
    },
    {
      "metadata": {
        "id": "-PR82CiYNor_",
        "colab_type": "code",
        "colab": {
          "base_uri": "https://localhost:8080/",
          "height": 50
        },
        "outputId": "f4e9d15f-8dc4-47d7-e942-5152a82b3acd"
      },
      "cell_type": "code",
      "source": [
        "figure_4_1()"
      ],
      "execution_count": 15,
      "outputs": [
        {
          "output_type": "stream",
          "text": [
            "In-place: 142 iterations\n",
            "Synchronous: 218 iterations\n"
          ],
          "name": "stdout"
        }
      ]
    }
  ]
}